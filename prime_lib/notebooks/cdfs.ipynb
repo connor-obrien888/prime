{
 "cells": [
  {
   "cell_type": "code",
   "execution_count": null,
   "id": "1f093cef",
   "metadata": {},
   "outputs": [
    {
     "ename": "",
     "evalue": "",
     "output_type": "error",
     "traceback": [
      "\u001b[1;31mFailed to start the Kernel. \n",
      "\u001b[1;31mThe kernel died. Error: ... View Jupyter <a href='command:jupyter.viewOutput'>log</a> for further details."
     ]
    }
   ],
   "source": [
    "import primesw as psw"
   ]
  },
  {
   "cell_type": "code",
   "execution_count": null,
   "id": "db7f5a70",
   "metadata": {},
   "outputs": [],
   "source": []
  }
 ],
 "metadata": {
  "kernelspec": {
   "display_name": "primesw-vxw29U1F-py3.8",
   "language": "python",
   "name": "python3"
  },
  "language_info": {
   "name": "python",
   "version": "3.8.10"
  }
 },
 "nbformat": 4,
 "nbformat_minor": 5
}
