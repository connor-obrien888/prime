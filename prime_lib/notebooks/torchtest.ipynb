{
 "cells": [
  {
   "cell_type": "code",
   "execution_count": 1,
   "id": "7bdde45a",
   "metadata": {},
   "outputs": [],
   "source": [
    "import torch\n",
    "import pandas as pd\n",
    "import numpy as np\n",
    "\n",
    "# Add the prime_torch file to the system path so we can import it\n",
    "import sys\n",
    "sys.path.append(\"/glade/u/home/cobrien/prime/prime_lib/primesw\")\n",
    "from data import SWDataset, SWDataModule"
   ]
  },
  {
   "cell_type": "code",
   "execution_count": 2,
   "id": "14e85bd9",
   "metadata": {},
   "outputs": [],
   "source": [
    "test_dataframe = pd.DataFrame([])\n",
    "test_dataframe['time'] = pd.date_range(\n",
    "    pd.to_datetime('20150902 00:00:00+0000'),\n",
    "    pd.to_datetime('20250101 00:00:00+0000'),\n",
    "    freq = '100s'\n",
    ")\n",
    "test_dataframe['a'] = np.arange(len(test_dataframe)) # Fake input\n",
    "test_dataframe['b'] = test_dataframe['a'] * 2 # Fake target\n",
    "test_dataframe['pos'] = test_dataframe['a'] * 0.5 # Fake positions\n",
    "test_dataframe.to_hdf(\"~/data/prime/test.h5\", key = 'lineartest')"
   ]
  },
  {
   "cell_type": "code",
   "execution_count": 3,
   "id": "c3447c5b",
   "metadata": {},
   "outputs": [
    {
     "name": "stderr",
     "output_type": "stream",
     "text": [
      "\u001b[32m2025-09-03 13:18:12.885\u001b[0m | \u001b[1mINFO    \u001b[0m | \u001b[36mdata\u001b[0m:\u001b[36msetup\u001b[0m:\u001b[36m219\u001b[0m - \u001b[1mTrain dataloader is ready. Dataset size: 1769473\u001b[0m\n",
      "\u001b[32m2025-09-03 13:19:01.638\u001b[0m | \u001b[1mINFO    \u001b[0m | \u001b[36mdata\u001b[0m:\u001b[36msetup\u001b[0m:\u001b[36m237\u001b[0m - \u001b[1mValidation dataloader is ready. Dataset size: 589249\u001b[0m\n",
      "\u001b[32m2025-09-03 13:19:50.478\u001b[0m | \u001b[1mINFO    \u001b[0m | \u001b[36mdata\u001b[0m:\u001b[36msetup\u001b[0m:\u001b[36m255\u001b[0m - \u001b[1mTest dataloader is ready. Dataset size: 586657\u001b[0m\n"
     ]
    }
   ],
   "source": [
    "datamodule = SWDataModule(\n",
    "    target_features = ['b'],\n",
    "    input_features = ['a'],\n",
    "    position_features = ['pos'],\n",
    "    freq = '100s',\n",
    "    window = 100,\n",
    "    stride = 10,\n",
    "    interp_frac = 0.1,\n",
    "    datastore = \"~/data/prime/test.h5\",\n",
    "    key = \"lineartest\",\n",
    ")\n",
    "datamodule.setup()"
   ]
  },
  {
   "cell_type": "code",
   "execution_count": 5,
   "id": "6696d0d8",
   "metadata": {},
   "outputs": [],
   "source": [
    "import torch\n",
    "import torch.nn as nn"
   ]
  },
  {
   "cell_type": "code",
   "execution_count": 6,
   "id": "11a52beb",
   "metadata": {},
   "outputs": [],
   "source": [
    "hidden_layers = [10,20,30]\n",
    "total_input_dim = 10\n",
    "tar_dim = 5\n",
    "p_drop = 0.2\n",
    "network = nn.Sequential( #Make the starting layer\n",
    "    nn.Linear(total_input_dim, hidden_layers[0]),\n",
    "    nn.ReLU(),\n",
    "    nn.Dropout(p=p_drop),\n",
    ")"
   ]
  },
  {
   "cell_type": "code",
   "execution_count": 11,
   "id": "55024a7b",
   "metadata": {},
   "outputs": [
    {
     "data": {
      "text/plain": [
       "torch.Size([1769364, 100, 1])"
      ]
     },
     "execution_count": 11,
     "metadata": {},
     "output_type": "execute_result"
    }
   ],
   "source": [
    "datamodule.trn_ds.input_data.shape"
   ]
  },
  {
   "cell_type": "code",
   "execution_count": null,
   "id": "d3856f37",
   "metadata": {},
   "outputs": [],
   "source": []
  }
 ],
 "metadata": {
  "kernelspec": {
   "display_name": "pt212gpu_conda",
   "language": "python",
   "name": "python3"
  },
  "language_info": {
   "codemirror_mode": {
    "name": "ipython",
    "version": 3
   },
   "file_extension": ".py",
   "mimetype": "text/x-python",
   "name": "python",
   "nbconvert_exporter": "python",
   "pygments_lexer": "ipython3",
   "version": "3.11.13"
  }
 },
 "nbformat": 4,
 "nbformat_minor": 5
}
